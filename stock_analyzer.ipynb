{
 "cells": [
  {
   "cell_type": "code",
   "execution_count": 1,
   "id": "0249a005-142d-4bd1-b80f-61d605fbcbf7",
   "metadata": {},
   "outputs": [],
   "source": [
    "# Import Modules\n",
    "import pandas as pd\n",
    "import os\n",
    "import json\n",
    "import numpy as np\n",
    "import requests\n",
    "from dotenv import load_dotenv\n",
    "import matplotlib.pyplot as plt\n",
    "import alpaca_trade_api as tradeapi\n",
    "import yfinance as yf\n",
    "from pathlib import Path\n",
    "import sqlalchemy as sql\n",
    "%matplotlib inline"
   ]
  },
  {
   "cell_type": "code",
   "execution_count": 2,
   "id": "30981d33-bec5-4398-9768-57fd70e2619b",
   "metadata": {},
   "outputs": [],
   "source": [
    "#1. download historical data 1 ~ 2 symbolsCorrelations...\n",
    "#2. Build Calculation Lib to caclculate TR, SR, PER, CORR, ....\n",
    "#3. Create the matrix with result\n",
    "# Symbol | Moving average | Total Return | Sharpe Ratio | PER price to earings | Corelation to SPY |..... * 660 symbols\n",
    "#4. Store back to database table - \"PERFORMANCE_MATRIX\"\n",
    "\n",
    "# function takes the history data frame as input and SYMBOL LIST NEEDS TO BE A VARIABLE FOR THIS CODE TO WORK\n",
    "def stock_analzer(HistoryDF,symbol_list):\n",
    "    performancematrix=pd.DataFrame(columns=['Symbol','Moving Average','Total Return','Sharpe Ratio','Average Covariance to spy','Average Beta'])\n",
    "    for stock in symbol_list :\n",
    "        #get ticker name\n",
    "        ticker=stock\n",
    "        #load closing prices\n",
    "        closes=HistoryDF.loc[:,[(stock, 'close')]]\n",
    "        closes=closes.iloc[:,0]\n",
    "        #find dailyreturns\n",
    "        dailyreturn=closes.pct_change().dropna()\n",
    "        # total return\n",
    "        totalreturn=closes[-1]/closes[0]\n",
    "        # moving average\n",
    "        mavgs=closes.rolling(window=60).mean().dropna()\n",
    "        mavgs=mavgs.sum()/mavgs.count()\n",
    "        #average annual retrun\n",
    "        avg_anual_return=dailyreturn.mean()*252\n",
    "        #annualized standard deviation using 252 as number of trading days in a year\n",
    "        avg_std=perchange.std(axis = 0, skipna = True)*np.sqrt(252)    \n",
    "        #sharpe ratios\n",
    "        sharpe=avg_anual_return/avg_std\n",
    "        #covariance to spy\n",
    "            #getting closing values\n",
    "        spy=historical_data_fetcher('SPY').iloc[:,3]\n",
    "            #daily returns on spy\n",
    "        spydr=spy.pct_change().dropna()\n",
    "            #spy variance\n",
    "        spyvar=spydr.rolling(window=60).var().dropna()\n",
    "            #covariance with stock and spy\n",
    "        cov=dailyreturn.rolling(window=60).cov(spydr)    \n",
    "            #beta values\n",
    "        beta=cov/spyvar\n",
    "\n",
    "\n",
    "        row=pd.DataFrame( {'Symbol': ticker , 'Moving Average': mavgs,'Total Return':totalreturn,'Sharpe Ratio':sharpe,'Average Covariance to spy':cov.mean(),'Average Beta':beta.mean()}, index=[0])\n",
    "        performancematrix=performancematrix.append(row,ignore_index = True)\n",
    "    return performancematrix"
   ]
  },
  {
   "cell_type": "code",
   "execution_count": null,
   "id": "bc74adbd-eeca-4c92-9740-54e756e29e60",
   "metadata": {},
   "outputs": [],
   "source": []
  }
 ],
 "metadata": {
  "kernelspec": {
   "display_name": "Python 3 (ipykernel)",
   "language": "python",
   "name": "python3"
  },
  "language_info": {
   "codemirror_mode": {
    "name": "ipython",
    "version": 3
   },
   "file_extension": ".py",
   "mimetype": "text/x-python",
   "name": "python",
   "nbconvert_exporter": "python",
   "pygments_lexer": "ipython3",
   "version": "3.7.11"
  }
 },
 "nbformat": 4,
 "nbformat_minor": 5
}
