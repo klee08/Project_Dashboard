{
 "cells": [
  {
   "cell_type": "markdown",
   "id": "ad40df9b-ca09-4bdb-a071-c93ad9ef7fa7",
   "metadata": {},
   "source": [
    "# ETF Top Performer Analyzer - POC"
   ]
  },
  {
   "cell_type": "code",
   "execution_count": 55,
   "id": "f967764a-6304-4212-904e-df2f0048903e",
   "metadata": {},
   "outputs": [],
   "source": [
    "# Import Modules\n",
    "import pandas as pd\n",
    "import os\n",
    "import json\n",
    "import requests\n",
    "from dotenv import load_dotenv\n",
    "import matplotlib.pyplot as plt\n",
    "import alpaca_trade_api as tradeapi\n",
    "import yfinance as yf\n",
    "from pathlib import Path\n",
    "import sqlalchemy as sql\n",
    "%matplotlib inline"
   ]
  },
  {
   "cell_type": "markdown",
   "id": "e5d77f87-9e0c-4360-8299-846e65c53736",
   "metadata": {},
   "source": [
    "## 1. IMPORT CSV FILES AND INSERT INTO SQL Tables"
   ]
  },
  {
   "cell_type": "code",
   "execution_count": 40,
   "id": "867a8b92-49f4-445a-8822-2b6f6f224eff",
   "metadata": {},
   "outputs": [],
   "source": [
    "#CSV Data Path\n",
    "etf_list_path = Path('../Resources/etf_list.csv')\n",
    "etf_constituents_path = Path('../Resources/etf_holdings.csv')"
   ]
  },
  {
   "cell_type": "code",
   "execution_count": 34,
   "id": "963f64b7-3cb1-46ad-a659-f989fc6036b7",
   "metadata": {},
   "outputs": [
    {
     "data": {
      "text/html": [
       "<div>\n",
       "<style scoped>\n",
       "    .dataframe tbody tr th:only-of-type {\n",
       "        vertical-align: middle;\n",
       "    }\n",
       "\n",
       "    .dataframe tbody tr th {\n",
       "        vertical-align: top;\n",
       "    }\n",
       "\n",
       "    .dataframe thead th {\n",
       "        text-align: right;\n",
       "    }\n",
       "</style>\n",
       "<table border=\"1\" class=\"dataframe\">\n",
       "  <thead>\n",
       "    <tr style=\"text-align: right;\">\n",
       "      <th></th>\n",
       "      <th>category</th>\n",
       "      <th>type</th>\n",
       "    </tr>\n",
       "    <tr>\n",
       "      <th>etf</th>\n",
       "      <th></th>\n",
       "      <th></th>\n",
       "    </tr>\n",
       "  </thead>\n",
       "  <tbody>\n",
       "    <tr>\n",
       "      <th>RYT</th>\n",
       "      <td>Sector</td>\n",
       "      <td>Technology</td>\n",
       "    </tr>\n",
       "    <tr>\n",
       "      <th>XSW</th>\n",
       "      <td>Sector</td>\n",
       "      <td>Technology</td>\n",
       "    </tr>\n",
       "    <tr>\n",
       "      <th>XLK</th>\n",
       "      <td>Sector</td>\n",
       "      <td>Technology</td>\n",
       "    </tr>\n",
       "    <tr>\n",
       "      <th>USRT</th>\n",
       "      <td>Sector</td>\n",
       "      <td>Real Estate</td>\n",
       "    </tr>\n",
       "    <tr>\n",
       "      <th>XLRE</th>\n",
       "      <td>Sector</td>\n",
       "      <td>Real Estate</td>\n",
       "    </tr>\n",
       "  </tbody>\n",
       "</table>\n",
       "</div>"
      ],
      "text/plain": [
       "     category         type\n",
       "etf                       \n",
       "RYT    Sector   Technology\n",
       "XSW    Sector   Technology\n",
       "XLK    Sector   Technology\n",
       "USRT   Sector  Real Estate\n",
       "XLRE   Sector  Real Estate"
      ]
     },
     "execution_count": 34,
     "metadata": {},
     "output_type": "execute_result"
    }
   ],
   "source": [
    "#1.Load ETF List from CSV\n",
    "etf_list_df = pd.read_csv(etf_list_path,index_col='etf', parse_dates=True, infer_datetime_format=True)\n",
    "etf_list_df.head()"
   ]
  },
  {
   "cell_type": "code",
   "execution_count": 43,
   "id": "c5ee01fb-ec5c-41b0-92a7-4028f3edfc12",
   "metadata": {},
   "outputs": [
    {
     "data": {
      "text/html": [
       "<div>\n",
       "<style scoped>\n",
       "    .dataframe tbody tr th:only-of-type {\n",
       "        vertical-align: middle;\n",
       "    }\n",
       "\n",
       "    .dataframe tbody tr th {\n",
       "        vertical-align: top;\n",
       "    }\n",
       "\n",
       "    .dataframe thead th {\n",
       "        text-align: right;\n",
       "    }\n",
       "</style>\n",
       "<table border=\"1\" class=\"dataframe\">\n",
       "  <thead>\n",
       "    <tr style=\"text-align: right;\">\n",
       "      <th></th>\n",
       "      <th>etf</th>\n",
       "      <th>symbol</th>\n",
       "      <th>name</th>\n",
       "      <th>pct_holding</th>\n",
       "    </tr>\n",
       "  </thead>\n",
       "  <tbody>\n",
       "    <tr>\n",
       "      <th>0</th>\n",
       "      <td>RYT</td>\n",
       "      <td>ENPH</td>\n",
       "      <td>Enphase Energy Inc</td>\n",
       "      <td>0.0192</td>\n",
       "    </tr>\n",
       "    <tr>\n",
       "      <th>1</th>\n",
       "      <td>RYT</td>\n",
       "      <td>ANET</td>\n",
       "      <td>Arista Networks Inc</td>\n",
       "      <td>0.0153</td>\n",
       "    </tr>\n",
       "    <tr>\n",
       "      <th>2</th>\n",
       "      <td>RYT</td>\n",
       "      <td>CRM</td>\n",
       "      <td>Salesforce.com Inc</td>\n",
       "      <td>0.0153</td>\n",
       "    </tr>\n",
       "    <tr>\n",
       "      <th>3</th>\n",
       "      <td>RYT</td>\n",
       "      <td>XLNX</td>\n",
       "      <td>Xilinx Inc</td>\n",
       "      <td>0.0152</td>\n",
       "    </tr>\n",
       "    <tr>\n",
       "      <th>4</th>\n",
       "      <td>RYT</td>\n",
       "      <td>PAYC</td>\n",
       "      <td>Paycom Software Inc</td>\n",
       "      <td>0.0151</td>\n",
       "    </tr>\n",
       "  </tbody>\n",
       "</table>\n",
       "</div>"
      ],
      "text/plain": [
       "   etf symbol                 name  pct_holding\n",
       "0  RYT   ENPH   Enphase Energy Inc       0.0192\n",
       "1  RYT   ANET  Arista Networks Inc       0.0153\n",
       "2  RYT    CRM   Salesforce.com Inc       0.0153\n",
       "3  RYT   XLNX           Xilinx Inc       0.0152\n",
       "4  RYT   PAYC  Paycom Software Inc       0.0151"
      ]
     },
     "execution_count": 43,
     "metadata": {},
     "output_type": "execute_result"
    }
   ],
   "source": [
    "#2.Load ETF Constituents from CSV\n",
    "etf_constituents_df = pd.read_csv(etf_constituents_path, parse_dates=True, infer_datetime_format=True)\n",
    "etf_constituents_df.head()"
   ]
  },
  {
   "cell_type": "code",
   "execution_count": 47,
   "id": "6f5fd159-0cb4-40f5-8d61-1d6cad5855fc",
   "metadata": {},
   "outputs": [
    {
     "name": "stdout",
     "output_type": "stream",
     "text": [
      "2021-11-03 19:26:50,355 INFO sqlalchemy.engine.Engine PRAGMA main.table_info(\"ETF_LIST\")\n",
      "2021-11-03 19:26:50,361 INFO sqlalchemy.engine.Engine [raw sql] ()\n",
      "2021-11-03 19:26:50,370 INFO sqlalchemy.engine.Engine PRAGMA temp.table_info(\"ETF_LIST\")\n",
      "2021-11-03 19:26:50,373 INFO sqlalchemy.engine.Engine [raw sql] ()\n",
      "2021-11-03 19:26:50,386 INFO sqlalchemy.engine.Engine BEGIN (implicit)\n",
      "2021-11-03 19:26:50,391 INFO sqlalchemy.engine.Engine \n",
      "CREATE TABLE \"ETF_LIST\" (\n",
      "\tetf TEXT, \n",
      "\tcategory TEXT, \n",
      "\ttype TEXT\n",
      ")\n",
      "\n",
      "\n",
      "2021-11-03 19:26:50,393 INFO sqlalchemy.engine.Engine [no key 0.00259s] ()\n",
      "2021-11-03 19:26:50,414 INFO sqlalchemy.engine.Engine CREATE INDEX \"ix_ETF_LIST_etf\" ON \"ETF_LIST\" (etf)\n",
      "2021-11-03 19:26:50,417 INFO sqlalchemy.engine.Engine [no key 0.00276s] ()\n",
      "2021-11-03 19:26:50,438 INFO sqlalchemy.engine.Engine COMMIT\n",
      "2021-11-03 19:26:50,465 INFO sqlalchemy.engine.Engine BEGIN (implicit)\n",
      "2021-11-03 19:26:50,470 INFO sqlalchemy.engine.Engine INSERT INTO \"ETF_LIST\" (etf, category, type) VALUES (?, ?, ?)\n",
      "2021-11-03 19:26:50,473 INFO sqlalchemy.engine.Engine [generated in 0.00354s] (('RYT', 'Sector', 'Technology'), ('XSW', 'Sector', 'Technology'), ('XLK', 'Sector', 'Technology'), ('USRT', 'Sector', 'Real Estate'), ('XLRE', 'Sector', 'Real Estate'), ('RWR', 'Sector', 'Real Estate'), ('BBUS', 'Purpose', 'Large_blend'), ('JMOM', 'Purpose', 'Large_growth')  ... displaying 10 of 12 total bound parameter sets ...  ('SLY', 'Purpose', 'Small_blend'), ('SLYG', 'Purpose', 'Small_growth'))\n",
      "2021-11-03 19:26:50,483 INFO sqlalchemy.engine.Engine COMMIT\n",
      "2021-11-03 19:26:50,502 INFO sqlalchemy.engine.Engine SELECT name FROM sqlite_master WHERE type='table' ORDER BY name\n",
      "2021-11-03 19:26:50,505 INFO sqlalchemy.engine.Engine [raw sql] ()\n",
      "2021-11-03 19:26:50,524 INFO sqlalchemy.engine.Engine PRAGMA main.table_info(\"ETF_CONSTITUENTS\")\n",
      "2021-11-03 19:26:50,526 INFO sqlalchemy.engine.Engine [raw sql] ()\n",
      "2021-11-03 19:26:50,532 INFO sqlalchemy.engine.Engine PRAGMA temp.table_info(\"ETF_CONSTITUENTS\")\n",
      "2021-11-03 19:26:50,535 INFO sqlalchemy.engine.Engine [raw sql] ()\n",
      "2021-11-03 19:26:50,547 INFO sqlalchemy.engine.Engine BEGIN (implicit)\n",
      "2021-11-03 19:26:50,550 INFO sqlalchemy.engine.Engine \n",
      "CREATE TABLE \"ETF_CONSTITUENTS\" (\n",
      "\tetf TEXT, \n",
      "\tsymbol TEXT, \n",
      "\tname TEXT, \n",
      "\tpct_holding FLOAT\n",
      ")\n",
      "\n",
      "\n",
      "2021-11-03 19:26:50,553 INFO sqlalchemy.engine.Engine [no key 0.00266s] ()\n",
      "2021-11-03 19:26:50,575 INFO sqlalchemy.engine.Engine COMMIT\n",
      "2021-11-03 19:26:50,588 INFO sqlalchemy.engine.Engine BEGIN (implicit)\n",
      "2021-11-03 19:26:50,635 INFO sqlalchemy.engine.Engine INSERT INTO \"ETF_CONSTITUENTS\" (etf, symbol, name, pct_holding) VALUES (?, ?, ?, ?)\n",
      "2021-11-03 19:26:50,638 INFO sqlalchemy.engine.Engine [generated in 0.04064s] (('RYT', 'ENPH', 'Enphase Energy Inc', 0.0192), ('RYT', 'ANET', 'Arista Networks Inc', 0.0153), ('RYT', 'CRM', 'Salesforce.com Inc', 0.0153), ('RYT', 'XLNX', 'Xilinx Inc', 0.0152), ('RYT', 'PAYC', 'Paycom Software Inc', 0.0151), ('RYT', 'TYL', 'Tyler Technologies', 0.0151), ('RYT', 'AMD', 'Adv Micro Devices', 0.015), ('RYT', 'TER', 'Teradyne Inc', 0.015)  ... displaying 10 of 1078 total bound parameter sets ...  ('XLK', 'WU', 'Western Union Company', 0.0007), ('XLK', 'IPGP', 'Ipg Photonics Corp', 0.0005))\n",
      "2021-11-03 19:26:50,658 INFO sqlalchemy.engine.Engine COMMIT\n",
      "2021-11-03 19:26:50,684 INFO sqlalchemy.engine.Engine SELECT name FROM sqlite_master WHERE type='table' ORDER BY name\n",
      "2021-11-03 19:26:50,686 INFO sqlalchemy.engine.Engine [raw sql] ()\n"
     ]
    }
   ],
   "source": [
    "# Create DB\n",
    "# Database connection string\n",
    "eft_data_connection_string = 'sqlite:///../Resources/etf.db'\n",
    "# Database engine\n",
    "etf_data_engine = sql.create_engine(eft_data_connection_string, echo=True)\n",
    "# Create two tables from the dataframe\n",
    "etf_list_df.to_sql('ETF_LIST', etf_data_engine, index_label='etf', if_exists='replace')\n",
    "etf_constituents_df.to_sql('ETF_CONSTITUENTS', etf_data_engine, index=False, if_exists='replace')\n"
   ]
  },
  {
   "cell_type": "code",
   "execution_count": 74,
   "id": "b7a39d8b-145f-481d-9fbd-504233022b23",
   "metadata": {},
   "outputs": [],
   "source": [
    "# Select all symbols and names from the Finance sector\n",
    "sql_query = \"\"\"\n",
    "SELECT distinct symbol\n",
    "FROM ETF_CONSTITUENTS\n",
    "UNION\n",
    "SELECT distinct etf\n",
    "FROM ETF_LIST\n",
    "\"\"\""
   ]
  },
  {
   "cell_type": "code",
   "execution_count": 105,
   "id": "c7d75e60-7536-43a0-a5d0-c127edab58d4",
   "metadata": {},
   "outputs": [
    {
     "name": "stdout",
     "output_type": "stream",
     "text": [
      "['A', 'AAON', 'AAPL', 'AAT', 'ABBV', 'ABCB', 'ABG', 'ABM', 'ABT', 'ACC', 'ACM', 'ACN', 'ADBE', 'ADC', 'ADI', 'ADP', 'ADSK', 'AEIS', 'AFG', 'AFRM', 'AGO', 'AGPXX', 'AIRC', 'AIT', 'AJG', 'AJRD', 'AKAM', 'AKR', 'ALEX', 'ALRM', 'ALTR', 'AMAT', 'AMD', 'AMED', 'AMGN', 'AMH', 'AMN', 'AMSWA', 'AMT', 'AMZN', 'ANET', 'ANSS', 'ANTM', 'AON', 'APD', 'APH', 'APLE', 'APP', 'APPF', 'APPS', 'ARE', 'ARNC', 'ARW', 'ARWR', 'ASAN', 'ASGN', 'ATEN', 'ATR', 'AVAV', 'AVB', 'AVGO', 'AWK', 'AWR', 'AX', 'AXON', 'AXP', 'AYX', 'AZPN', 'BA', 'BAC', 'BBUS', 'BCPC', 'BDN', 'BGS', 'BILL', 'BJ', 'BKNG', 'BKU', 'BL', 'BLD', 'BLDR', 'BLK', 'BLKB', 'BLL', 'BMI', 'BMY', 'BNL', 'BOOT', 'BOX', 'BR', 'BRK.B', 'BRKS', 'BRX', 'BSIG', 'BXP', 'C', 'CABO', 'CAR', 'CAT', 'CBRE', 'CBU', 'CCI', 'CCOI', 'CCS', 'CDAY', 'CDK', 'CDNS', 'CDW', 'CELH', 'CGNX', 'CHDN', 'CHE', 'CHTR', 'CI', 'CIEN', 'CLF', 'CLI', 'CLSK', 'CMCSA', 'CMG', 'CNDT', 'CNMD', 'CNXC', 'COLD', 'CONE', 'COOP', 'COR', 'CORT', 'COST', 'CPRI', 'CPRT', 'CPT', 'CRM', 'CRNC', 'CROX', 'CRWD', 'CSCO', 'CSGP', 'CSGS', 'CSL', 'CSR', 'CTRE', 'CTSH', 'CTVA', 'CTXS', 'CUBE', 'CUZ', 'CVS', 'CVX', 'CWT', 'CXP', 'CYTK', 'DAR', 'DBRG', 'DDD', 'DDOG', 'DE', 'DEA', 'DECK', 'DEI', 'DG', 'DHR', 'DIOD', 'DIS', 'DKS', 'DLR', 'DMRC', 'DOC', 'DOCU', 'DOMO', 'DORM', 'DRE', 'DRH', 'DT', 'DXC', 'EBIX', 'ECL', 'EGHT', 'EGP', 'EL', 'ELS', 'ENPH', 'ENSG', 'ENV', 'EPAM', 'EPAY', 'EPR', 'EPRT', 'EQC', 'EQIX', 'EQR', 'ESRT', 'ESS', 'ESTC', 'ETWO', 'EVTC', 'EWBC', 'EXEL', 'EXLS', 'EXPO', 'EXR', 'FAF', 'FB', 'FBP', 'FCN', 'FCPT', 'FCX', 'FDS', 'FDX', 'FELE', 'FFIV', 'FHB', 'FHN', 'FICO', 'FIS', 'FISV', 'FIVE', 'FIX', 'FLOW', 'FLT', 'FN', 'FORM', 'FOXF', 'FR', 'FRT', 'FSLR', 'FSS', 'FTNT', 'FUL', 'FWRD', 'G', 'GDOT', 'GE', 'GGG', 'GILD', 'GLPI', 'GLW', 'GME', 'GMED', 'GNL', 'GNTX', 'GOOG', 'GOOGL', 'GPI', 'GPN', 'GS', 'GSKY', 'GTLS', 'GWRE', 'GXO', 'HALO', 'HD', 'HELE', 'HI', 'HIW', 'HON', 'HP', 'HPE', 'HPP', 'HPQ', 'HQY', 'HR', 'HRC', 'HSKA', 'HST', 'HTA', 'HUBB', 'HUBS', 'HUM', 'IAA', 'IBKR', 'IBM', 'IBP', 'IDXX', 'IIPR', 'IIVI', 'ILPT', 'INTC', 'INTU', 'INVH', 'IPGP', 'IRBT', 'IRM', 'IRT', 'ISBC', 'ISRG', 'IT', 'ITGR', 'ITRI', 'ITT', 'JAMF', 'JAZZ', 'JBGS', 'JBL', 'JBT', 'JEF', 'JHG', 'JKHY', 'JLL', 'JMOM', 'JNJ', 'JNPR', 'JPM', 'KEYS', 'KFY', 'KIM', 'KKR', 'KLAC', 'KLIC', 'KNX', 'KO', 'KRC', 'KRG', 'KSU', 'KWR', 'LAD', 'LAMR', 'LBRDK', 'LCII', 'LEA', 'LECO', 'LFUS', 'LGIH', 'LII', 'LIN', 'LITE', 'LLY', 'LMT', 'LOW', 'LPSN', 'LRCX', 'LSCC', 'LSI', 'LTC', 'LTHM', 'LULU', 'LXP', 'M', 'MA', 'MAA', 'MAC', 'MANH', 'MARA', 'MASI', 'MAT', 'MATX', 'MCD', 'MCFE', 'MCHP', 'MCO', 'MDLZ', 'MDT', 'MDYG', 'MED', 'MEDP', 'MIDD', 'MIME', 'MKSI', 'MLI', 'MMC', 'MMM', 'MMS', 'MMSI', 'MNR', 'MNST', 'MNTV', 'MO', 'MODV', 'MOH', 'MPW', 'MPWR', 'MRK', 'MRNA', 'MRVL', 'MS', 'MSA', 'MSCI', 'MSFT', 'MSI', 'MSTR', 'MTD', 'MTDR', 'MTH', 'MU', 'MXL', 'NBIX', 'NDSN', 'NEE', 'NEO', 'NEWR', 'NFLX', 'NHI', 'NKE', 'NLOK', 'NMIH', 'NNN', 'NOW', 'NSA', 'NSC', 'NSIT', 'NTAP', 'NVDA', 'NXPI', 'NXRT', 'NYT', 'O', 'OC', 'ODFL', 'OFC', 'OHI', 'OKTA', 'OLED', 'OLN', 'OMCL', 'ONTO', 'OPI', 'ORCL', 'OSPN', 'OUT', 'PANW', 'PATK', 'PAYC', 'PAYX', 'PBH', 'PCRX', 'PCTY', 'PDCE', 'PDM', 'PEAK', 'PEB', 'PEN', 'PEP', 'PFE', 'PG', 'PGR', 'PGRE', 'PING', 'PK', 'PLD', 'PLMR', 'PM', 'POOL', 'POWI', 'PPBI', 'PRAA', 'PRFT', 'PRGS', 'PRI', 'PSA', 'PSB', 'PTC', 'PYPL', 'QADA', 'QCOM', 'QDEL', 'QLYS', 'QRVO', 'RAMP', 'RCII', 'REG', 'REGI', 'REXR', 'REZI', 'RGA', 'RGEN', 'RH', 'RHP', 'RLJ', 'RNG', 'ROCK', 'ROG', 'ROIC', 'ROKU', 'RPD', 'RPM', 'RRC', 'RRX', 'RS', 'RTX', 'RUN', 'RWR', 'RYT', 'SAIA', 'SAIL', 'SAM', 'SBAC', 'SBNY', 'SBRA', 'SBUX', 'SCHW', 'SCI', 'SCPL', 'SEDG', 'SEM', 'SFBS', 'SFNC', 'SHAK', 'SHO', 'SHOO', 'SIG', 'SITC', 'SIVB', 'SKT', 'SLG', 'SLM', 'SLY', 'SLYG', 'SM', 'SMG', 'SMPL', 'SMTC', 'SNBR', 'SNPS', 'SPG', 'SPGI', 'SPLK', 'SPMD', 'SPSC', 'SQ', 'SRC', 'SSD', 'SSNC', 'SSTK', 'STAA', 'STAG', 'STLD', 'STOR', 'STX', 'SUI', 'SVC', 'SWKS', 'SWN', 'SYK', 'SYNH', 'T', 'TBK', 'TDC', 'TDY', 'TEAM', 'TEL', 'TENB', 'TER', 'TGT', 'TJX', 'TKR', 'TMO', 'TMUS', 'TNDM', 'TPX', 'TREE', 'TREX', 'TRGP', 'TRMB', 'TRNO', 'TRUP', 'TSLA', 'TTC', 'TTD', 'TTEK', 'TTGT', 'TTWO', 'TWLO', 'TXN', 'TXRH', 'TYL', 'UCBI', 'UCTT', 'UDR', 'UE', 'UFPI', 'UGI', 'UIS', 'UNF', 'UNH', 'UNIT', 'UNP', 'UPS', 'USB', 'USRT', 'UTHR', 'V', 'VCEL', 'VEEV', 'VER', 'VERI', 'VERX', 'VG', 'VIAV', 'VICI', 'VICR', 'VMW', 'VNO', 'VRNT', 'VRRM', 'VRSN', 'VRTS', 'VSTO', 'VTR', 'VZ', 'WD', 'WDAY', 'WDC', 'WDFC', 'WELL', 'WFC', 'WING', 'WK', 'WLTW', 'WMT', 'WOLF', 'WPC', 'WRE', 'WSM', 'WSO', 'WST', 'WTRG', 'WTS', 'WU', 'WY', 'XHR', 'XLK', 'XLNX', 'XLRE', 'XNCR', 'XOM', 'XPO', 'XSW', 'Y', 'YETI', 'ZBRA', 'ZIXI', 'ZM', 'ZS', 'ZTS', 'ZUO']\n"
     ]
    }
   ],
   "source": [
    "etf_symbols = pd.read_sql_query(sql_query, eft_data_connection_string, index_col='symbol')\n",
    "symbol_list = etf_symbols.index.values.tolist()"
   ]
  },
  {
   "cell_type": "markdown",
   "id": "56e45622-7b45-4f99-ad00-2bfbacaa30d4",
   "metadata": {},
   "source": [
    "# 2. Download historical Data and store into DB\n",
    "Including parents(ETF), SPY and QQQ"
   ]
  },
  {
   "cell_type": "code",
   "execution_count": 78,
   "id": "d3f6a7d6-e00d-49af-ab4d-bf6395ccda40",
   "metadata": {},
   "outputs": [
    {
     "ename": "KeyError",
     "evalue": "'symbol'",
     "output_type": "error",
     "traceback": [
      "\u001b[1;31m---------------------------------------------------------------------------\u001b[0m",
      "\u001b[1;31mKeyError\u001b[0m                                  Traceback (most recent call last)",
      "\u001b[1;32mC:\\programdata\\anaconda3\\envs\\dev\\lib\\site-packages\\pandas\\core\\indexes\\base.py\u001b[0m in \u001b[0;36mget_loc\u001b[1;34m(self, key, method, tolerance)\u001b[0m\n\u001b[0;32m   3079\u001b[0m             \u001b[1;32mtry\u001b[0m\u001b[1;33m:\u001b[0m\u001b[1;33m\u001b[0m\u001b[1;33m\u001b[0m\u001b[0m\n\u001b[1;32m-> 3080\u001b[1;33m                 \u001b[1;32mreturn\u001b[0m \u001b[0mself\u001b[0m\u001b[1;33m.\u001b[0m\u001b[0m_engine\u001b[0m\u001b[1;33m.\u001b[0m\u001b[0mget_loc\u001b[0m\u001b[1;33m(\u001b[0m\u001b[0mcasted_key\u001b[0m\u001b[1;33m)\u001b[0m\u001b[1;33m\u001b[0m\u001b[1;33m\u001b[0m\u001b[0m\n\u001b[0m\u001b[0;32m   3081\u001b[0m             \u001b[1;32mexcept\u001b[0m \u001b[0mKeyError\u001b[0m \u001b[1;32mas\u001b[0m \u001b[0merr\u001b[0m\u001b[1;33m:\u001b[0m\u001b[1;33m\u001b[0m\u001b[1;33m\u001b[0m\u001b[0m\n",
      "\u001b[1;32mpandas\\_libs\\index.pyx\u001b[0m in \u001b[0;36mpandas._libs.index.IndexEngine.get_loc\u001b[1;34m()\u001b[0m\n",
      "\u001b[1;32mpandas\\_libs\\index.pyx\u001b[0m in \u001b[0;36mpandas._libs.index.IndexEngine.get_loc\u001b[1;34m()\u001b[0m\n",
      "\u001b[1;32mpandas\\_libs\\hashtable_class_helper.pxi\u001b[0m in \u001b[0;36mpandas._libs.hashtable.PyObjectHashTable.get_item\u001b[1;34m()\u001b[0m\n",
      "\u001b[1;32mpandas\\_libs\\hashtable_class_helper.pxi\u001b[0m in \u001b[0;36mpandas._libs.hashtable.PyObjectHashTable.get_item\u001b[1;34m()\u001b[0m\n",
      "\u001b[1;31mKeyError\u001b[0m: 'symbol'",
      "\nThe above exception was the direct cause of the following exception:\n",
      "\u001b[1;31mKeyError\u001b[0m                                  Traceback (most recent call last)",
      "\u001b[1;32m<ipython-input-78-5421203a43af>\u001b[0m in \u001b[0;36m<module>\u001b[1;34m\u001b[0m\n\u001b[0;32m     17\u001b[0m     \u001b[0mprint\u001b[0m\u001b[1;33m(\u001b[0m\u001b[0metf_symbols\u001b[0m\u001b[1;33m[\u001b[0m\u001b[1;34m'symbol'\u001b[0m\u001b[1;33m]\u001b[0m\u001b[1;33m.\u001b[0m\u001b[0mvalues\u001b[0m\u001b[1;33m.\u001b[0m\u001b[0mtolist\u001b[0m\u001b[1;33m(\u001b[0m\u001b[1;33m)\u001b[0m\u001b[1;33m)\u001b[0m\u001b[1;33m\u001b[0m\u001b[1;33m\u001b[0m\u001b[0m\n\u001b[0;32m     18\u001b[0m \u001b[1;33m\u001b[0m\u001b[0m\n\u001b[1;32m---> 19\u001b[1;33m \u001b[0ma\u001b[0m \u001b[1;33m=\u001b[0m \u001b[0mhistorical_data_fetcher\u001b[0m\u001b[1;33m(\u001b[0m\u001b[0metf_symbols\u001b[0m\u001b[1;33m)\u001b[0m\u001b[1;33m\u001b[0m\u001b[1;33m\u001b[0m\u001b[0m\n\u001b[0m",
      "\u001b[1;32m<ipython-input-78-5421203a43af>\u001b[0m in \u001b[0;36mhistorical_data_fetcher\u001b[1;34m(etf_symbols)\u001b[0m\n\u001b[0;32m     15\u001b[0m     \u001b[0mtoday\u001b[0m \u001b[1;33m=\u001b[0m \u001b[0mpd\u001b[0m\u001b[1;33m.\u001b[0m\u001b[0mTimestamp\u001b[0m\u001b[1;33m(\u001b[0m\u001b[1;34m\"2021-11-04\"\u001b[0m\u001b[1;33m,\u001b[0m \u001b[0mtz\u001b[0m\u001b[1;33m=\u001b[0m\u001b[1;34m\"America/New_York\"\u001b[0m\u001b[1;33m)\u001b[0m\u001b[1;33m.\u001b[0m\u001b[0misoformat\u001b[0m\u001b[1;33m(\u001b[0m\u001b[1;33m)\u001b[0m\u001b[1;33m\u001b[0m\u001b[1;33m\u001b[0m\u001b[0m\n\u001b[0;32m     16\u001b[0m     \u001b[0mticker\u001b[0m  \u001b[1;33m=\u001b[0m \u001b[1;33m[\u001b[0m\u001b[1;34m\"FB\"\u001b[0m\u001b[1;33m,\u001b[0m \u001b[1;34m\"TWTR\"\u001b[0m\u001b[1;33m]\u001b[0m\u001b[1;33m\u001b[0m\u001b[1;33m\u001b[0m\u001b[0m\n\u001b[1;32m---> 17\u001b[1;33m     \u001b[0mprint\u001b[0m\u001b[1;33m(\u001b[0m\u001b[0metf_symbols\u001b[0m\u001b[1;33m[\u001b[0m\u001b[1;34m'symbol'\u001b[0m\u001b[1;33m]\u001b[0m\u001b[1;33m.\u001b[0m\u001b[0mvalues\u001b[0m\u001b[1;33m.\u001b[0m\u001b[0mtolist\u001b[0m\u001b[1;33m(\u001b[0m\u001b[1;33m)\u001b[0m\u001b[1;33m)\u001b[0m\u001b[1;33m\u001b[0m\u001b[1;33m\u001b[0m\u001b[0m\n\u001b[0m\u001b[0;32m     18\u001b[0m \u001b[1;33m\u001b[0m\u001b[0m\n\u001b[0;32m     19\u001b[0m \u001b[0ma\u001b[0m \u001b[1;33m=\u001b[0m \u001b[0mhistorical_data_fetcher\u001b[0m\u001b[1;33m(\u001b[0m\u001b[0metf_symbols\u001b[0m\u001b[1;33m)\u001b[0m\u001b[1;33m\u001b[0m\u001b[1;33m\u001b[0m\u001b[0m\n",
      "\u001b[1;32mC:\\programdata\\anaconda3\\envs\\dev\\lib\\site-packages\\pandas\\core\\frame.py\u001b[0m in \u001b[0;36m__getitem__\u001b[1;34m(self, key)\u001b[0m\n\u001b[0;32m   3022\u001b[0m             \u001b[1;32mif\u001b[0m \u001b[0mself\u001b[0m\u001b[1;33m.\u001b[0m\u001b[0mcolumns\u001b[0m\u001b[1;33m.\u001b[0m\u001b[0mnlevels\u001b[0m \u001b[1;33m>\u001b[0m \u001b[1;36m1\u001b[0m\u001b[1;33m:\u001b[0m\u001b[1;33m\u001b[0m\u001b[1;33m\u001b[0m\u001b[0m\n\u001b[0;32m   3023\u001b[0m                 \u001b[1;32mreturn\u001b[0m \u001b[0mself\u001b[0m\u001b[1;33m.\u001b[0m\u001b[0m_getitem_multilevel\u001b[0m\u001b[1;33m(\u001b[0m\u001b[0mkey\u001b[0m\u001b[1;33m)\u001b[0m\u001b[1;33m\u001b[0m\u001b[1;33m\u001b[0m\u001b[0m\n\u001b[1;32m-> 3024\u001b[1;33m             \u001b[0mindexer\u001b[0m \u001b[1;33m=\u001b[0m \u001b[0mself\u001b[0m\u001b[1;33m.\u001b[0m\u001b[0mcolumns\u001b[0m\u001b[1;33m.\u001b[0m\u001b[0mget_loc\u001b[0m\u001b[1;33m(\u001b[0m\u001b[0mkey\u001b[0m\u001b[1;33m)\u001b[0m\u001b[1;33m\u001b[0m\u001b[1;33m\u001b[0m\u001b[0m\n\u001b[0m\u001b[0;32m   3025\u001b[0m             \u001b[1;32mif\u001b[0m \u001b[0mis_integer\u001b[0m\u001b[1;33m(\u001b[0m\u001b[0mindexer\u001b[0m\u001b[1;33m)\u001b[0m\u001b[1;33m:\u001b[0m\u001b[1;33m\u001b[0m\u001b[1;33m\u001b[0m\u001b[0m\n\u001b[0;32m   3026\u001b[0m                 \u001b[0mindexer\u001b[0m \u001b[1;33m=\u001b[0m \u001b[1;33m[\u001b[0m\u001b[0mindexer\u001b[0m\u001b[1;33m]\u001b[0m\u001b[1;33m\u001b[0m\u001b[1;33m\u001b[0m\u001b[0m\n",
      "\u001b[1;32mC:\\programdata\\anaconda3\\envs\\dev\\lib\\site-packages\\pandas\\core\\indexes\\base.py\u001b[0m in \u001b[0;36mget_loc\u001b[1;34m(self, key, method, tolerance)\u001b[0m\n\u001b[0;32m   3080\u001b[0m                 \u001b[1;32mreturn\u001b[0m \u001b[0mself\u001b[0m\u001b[1;33m.\u001b[0m\u001b[0m_engine\u001b[0m\u001b[1;33m.\u001b[0m\u001b[0mget_loc\u001b[0m\u001b[1;33m(\u001b[0m\u001b[0mcasted_key\u001b[0m\u001b[1;33m)\u001b[0m\u001b[1;33m\u001b[0m\u001b[1;33m\u001b[0m\u001b[0m\n\u001b[0;32m   3081\u001b[0m             \u001b[1;32mexcept\u001b[0m \u001b[0mKeyError\u001b[0m \u001b[1;32mas\u001b[0m \u001b[0merr\u001b[0m\u001b[1;33m:\u001b[0m\u001b[1;33m\u001b[0m\u001b[1;33m\u001b[0m\u001b[0m\n\u001b[1;32m-> 3082\u001b[1;33m                 \u001b[1;32mraise\u001b[0m \u001b[0mKeyError\u001b[0m\u001b[1;33m(\u001b[0m\u001b[0mkey\u001b[0m\u001b[1;33m)\u001b[0m \u001b[1;32mfrom\u001b[0m \u001b[0merr\u001b[0m\u001b[1;33m\u001b[0m\u001b[1;33m\u001b[0m\u001b[0m\n\u001b[0m\u001b[0;32m   3083\u001b[0m \u001b[1;33m\u001b[0m\u001b[0m\n\u001b[0;32m   3084\u001b[0m         \u001b[1;32mif\u001b[0m \u001b[0mtolerance\u001b[0m \u001b[1;32mis\u001b[0m \u001b[1;32mnot\u001b[0m \u001b[1;32mNone\u001b[0m\u001b[1;33m:\u001b[0m\u001b[1;33m\u001b[0m\u001b[1;33m\u001b[0m\u001b[0m\n",
      "\u001b[1;31mKeyError\u001b[0m: 'symbol'"
     ]
    }
   ],
   "source": [
    "def historical_data_fetcher(symbol_list):\n",
    "    # Set Alpaca API key and secret\n",
    "    alpaca_api_key = os.getenv(\"ALPACA_API_KEY\")\n",
    "    alpaca_secret_key = os.getenv(\"ALPACA_SECRET_KEY\")\n",
    "\n",
    "# Create the Alpaca API object\n",
    "    alpaca = tradeapi.REST(\n",
    "    alpaca_api_key,\n",
    "    alpaca_secret_key,\n",
    "    api_version=\"v2\")\n",
    "    \n",
    "\n",
    "    #run symbols in bulk or loop based on limitation\n",
    "    #Create STOCK_HISTORY table and store the historical data\n",
    "    today = pd.Timestamp(\"2021-11-04\", tz=\"America/New_York\").isoformat()\n",
    "    ticker  = [\"FB\", \"TWTR\"]\n",
    "    print(etf_symbols['symbol'].values.tolist())\n",
    "    \n",
    "a = historical_data_fetcher(symbol_list)"
   ]
  },
  {
   "cell_type": "markdown",
   "id": "8e97a034-4e65-45f5-a8c1-a4e48656e960",
   "metadata": {},
   "source": [
    "# 3. Analyze Stock Performance\n",
    "Analyze the historical data and store the data with index: symbol\n",
    "\n",
    "moving average\n",
    "Return\n",
    "Sharpe Ratio\n",
    "P/E ratio\n",
    "Correlations..."
   ]
  },
  {
   "cell_type": "code",
   "execution_count": 60,
   "id": "0a9ecead-d9e2-414b-949d-ec435324a53d",
   "metadata": {},
   "outputs": [],
   "source": [
    "def stock_analzer(etf_symbol):\n",
    "    alpaca = tradeapi.REST(\n",
    "    alpaca_api_key,\n",
    "    alpaca_secret_key,\n",
    "    api_version=\"v2\")\n",
    "    return "
   ]
  },
  {
   "cell_type": "markdown",
   "id": "2b03b9c6-5bec-4b23-8c11-e8c6b187f006",
   "metadata": {},
   "source": [
    "# 4. Cherry Picking to create our portfolio\n",
    "pick best based on performance scoring matrix per investment criteria and benchmark EFTs"
   ]
  },
  {
   "cell_type": "code",
   "execution_count": 61,
   "id": "071c6e3e-5442-4174-bbad-35fec9a90965",
   "metadata": {},
   "outputs": [],
   "source": [
    "def Stock_picker(eft_symbol, criteria):\n",
    "    #stock_picker.py\n",
    "    #code here\n",
    "    #return dataframe with pick\n",
    "    return"
   ]
  },
  {
   "cell_type": "markdown",
   "id": "572b5fc9-98f9-40f9-8c23-ec4c72681e61",
   "metadata": {},
   "source": [
    "# 5. Performance Forecast Visualization - Validation\n",
    "\n",
    "Show our portfolio performance with Chart and Matrix\n",
    "Run Montecarlo simulation\n",
    "Compare performance Forecast"
   ]
  },
  {
   "cell_type": "code",
   "execution_count": 62,
   "id": "890ebb49-4945-44d4-9a25-a4658c5bfe9f",
   "metadata": {},
   "outputs": [],
   "source": [
    "def performance_forecast():\n",
    "    from MCForecastTools import MCSimulation\n",
    "    # performance_forecast including benchmarks\n",
    "    # code here\n",
    "    # See 05-Inst_Simulation_of_Stock_Price_Trajectory/\n",
    "    return\n",
    "def report_visualization():\n",
    "    # Import the hvPlot library\n",
    "    import hvplot.pandas\n",
    "    #code here\n",
    "    # See 06-Data-Visualization-with-PyViz/\n",
    "    # Report with charts\n",
    "    return"
   ]
  },
  {
   "cell_type": "markdown",
   "id": "f5bd38b7-0dcf-459b-beec-cc6d59d11b52",
   "metadata": {},
   "source": [
    "# 6. REPORT\n",
    "1. Summarize the analysis and results\n",
    "2. Future improvement and limitation --no Dividend and CF analysis"
   ]
  },
  {
   "cell_type": "code",
   "execution_count": null,
   "id": "97850896-7dbe-44e0-9dbe-ec791ebc48f5",
   "metadata": {},
   "outputs": [],
   "source": []
  }
 ],
 "metadata": {
  "kernelspec": {
   "display_name": "Python 3",
   "language": "python",
   "name": "python3"
  },
  "language_info": {
   "codemirror_mode": {
    "name": "ipython",
    "version": 3
   },
   "file_extension": ".py",
   "mimetype": "text/x-python",
   "name": "python",
   "nbconvert_exporter": "python",
   "pygments_lexer": "ipython3",
   "version": "3.7.10"
  }
 },
 "nbformat": 4,
 "nbformat_minor": 5
}
